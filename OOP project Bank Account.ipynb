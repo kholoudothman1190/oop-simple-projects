{
 "cells": [
  {
   "cell_type": "code",
   "execution_count": 6,
   "id": "5cab7701",
   "metadata": {},
   "outputs": [],
   "source": [
    "class BankAccount:\n",
    "    def __init__(self, name , account_number, balance = 0):\n",
    "        self.name = name\n",
    "        self.account_number = account_number\n",
    "        self.balance = balance\n",
    "    \n",
    "    def deposit(self, amount):\n",
    "        self.balance += amount\n",
    "    \n",
    "    def withdraw(self , amount):\n",
    "        if amount > self.balance:\n",
    "            print('you don\"t have enough balance')\n",
    "        else:\n",
    "            self.balance -= amount\n",
    "            \n",
    "    def getbalance(self):\n",
    "        return self.balance\n",
    "        "
   ]
  },
  {
   "cell_type": "code",
   "execution_count": 7,
   "id": "101a2e6b",
   "metadata": {},
   "outputs": [],
   "source": [
    "client1 = BankAccount('Ahmed' , 12345 , 1000)"
   ]
  },
  {
   "cell_type": "code",
   "execution_count": 8,
   "id": "e982653f",
   "metadata": {},
   "outputs": [
    {
     "data": {
      "text/plain": [
       "1000"
      ]
     },
     "execution_count": 8,
     "metadata": {},
     "output_type": "execute_result"
    }
   ],
   "source": [
    "client1.getbalance()"
   ]
  },
  {
   "cell_type": "code",
   "execution_count": 9,
   "id": "1595a792",
   "metadata": {},
   "outputs": [],
   "source": [
    "client1.deposit(2000)"
   ]
  },
  {
   "cell_type": "code",
   "execution_count": 10,
   "id": "56b477ff",
   "metadata": {},
   "outputs": [
    {
     "data": {
      "text/plain": [
       "3000"
      ]
     },
     "execution_count": 10,
     "metadata": {},
     "output_type": "execute_result"
    }
   ],
   "source": [
    "client1.getbalance()"
   ]
  },
  {
   "cell_type": "code",
   "execution_count": 11,
   "id": "bd414534",
   "metadata": {},
   "outputs": [
    {
     "name": "stdout",
     "output_type": "stream",
     "text": [
      "you don\"t have enough balance\n"
     ]
    }
   ],
   "source": [
    "client1.withdraw(5000)"
   ]
  },
  {
   "cell_type": "code",
   "execution_count": 12,
   "id": "d4bcb5d9",
   "metadata": {},
   "outputs": [],
   "source": [
    "client1.withdraw(2600)"
   ]
  },
  {
   "cell_type": "code",
   "execution_count": 13,
   "id": "c98ddec2",
   "metadata": {},
   "outputs": [
    {
     "data": {
      "text/plain": [
       "400"
      ]
     },
     "execution_count": 13,
     "metadata": {},
     "output_type": "execute_result"
    }
   ],
   "source": [
    "client1.getbalance()"
   ]
  },
  {
   "cell_type": "code",
   "execution_count": 14,
   "id": "f18e998c",
   "metadata": {},
   "outputs": [
    {
     "data": {
      "text/plain": [
       "400"
      ]
     },
     "execution_count": 14,
     "metadata": {},
     "output_type": "execute_result"
    }
   ],
   "source": [
    "client1.balance"
   ]
  },
  {
   "cell_type": "code",
   "execution_count": 15,
   "id": "761c369b",
   "metadata": {},
   "outputs": [
    {
     "data": {
      "text/plain": [
       "12345"
      ]
     },
     "execution_count": 15,
     "metadata": {},
     "output_type": "execute_result"
    }
   ],
   "source": [
    "client1.account_number"
   ]
  },
  {
   "cell_type": "code",
   "execution_count": 16,
   "id": "ddb3143e",
   "metadata": {},
   "outputs": [
    {
     "data": {
      "text/plain": [
       "'Ahmed'"
      ]
     },
     "execution_count": 16,
     "metadata": {},
     "output_type": "execute_result"
    }
   ],
   "source": [
    "client1.name"
   ]
  },
  {
   "cell_type": "code",
   "execution_count": 17,
   "id": "74988f36",
   "metadata": {},
   "outputs": [],
   "source": [
    "client2 = BankAccount('Sara', 2345678, 5000)"
   ]
  },
  {
   "cell_type": "code",
   "execution_count": 18,
   "id": "59781e74",
   "metadata": {},
   "outputs": [
    {
     "data": {
      "text/plain": [
       "5000"
      ]
     },
     "execution_count": 18,
     "metadata": {},
     "output_type": "execute_result"
    }
   ],
   "source": [
    "client2.getbalance()"
   ]
  },
  {
   "cell_type": "code",
   "execution_count": 19,
   "id": "fc4e19d4",
   "metadata": {},
   "outputs": [],
   "source": [
    "client2.deposit(2000)"
   ]
  },
  {
   "cell_type": "code",
   "execution_count": 20,
   "id": "2e6a7837",
   "metadata": {},
   "outputs": [
    {
     "data": {
      "text/plain": [
       "7000"
      ]
     },
     "execution_count": 20,
     "metadata": {},
     "output_type": "execute_result"
    }
   ],
   "source": [
    "client2.getbalance()"
   ]
  },
  {
   "cell_type": "code",
   "execution_count": 21,
   "id": "5e9879c4",
   "metadata": {},
   "outputs": [],
   "source": [
    "client2.withdraw(3000)"
   ]
  },
  {
   "cell_type": "code",
   "execution_count": 22,
   "id": "43d3f785",
   "metadata": {},
   "outputs": [
    {
     "data": {
      "text/plain": [
       "4000"
      ]
     },
     "execution_count": 22,
     "metadata": {},
     "output_type": "execute_result"
    }
   ],
   "source": [
    "client2.getbalance()"
   ]
  },
  {
   "cell_type": "code",
   "execution_count": 23,
   "id": "8f6bcafa",
   "metadata": {},
   "outputs": [
    {
     "data": {
      "text/plain": [
       "4000"
      ]
     },
     "execution_count": 23,
     "metadata": {},
     "output_type": "execute_result"
    }
   ],
   "source": [
    "client2.balance"
   ]
  },
  {
   "cell_type": "code",
   "execution_count": 24,
   "id": "dfd127f1",
   "metadata": {},
   "outputs": [],
   "source": [
    "class BankAccount:\n",
    "    def __init__(self, name , account_number, balance = 0):\n",
    "        self.name = name\n",
    "        self.account_number = account_number\n",
    "        self.__balance = balance\n",
    "    \n",
    "    def deposit(self, amount):\n",
    "        self.__balance += amount\n",
    "    \n",
    "    def withdraw(self , amount):\n",
    "        if amount > self.__balance:\n",
    "            print('you don\"t have enough balance')\n",
    "        else:\n",
    "            self.__balance -= amount\n",
    "            \n",
    "    def getbalance(self):\n",
    "        return self.__balance\n",
    "        "
   ]
  },
  {
   "cell_type": "code",
   "execution_count": 26,
   "id": "59405863",
   "metadata": {},
   "outputs": [],
   "source": [
    "client3 = BankAccount('Mohammed', 4576890, 2000)"
   ]
  },
  {
   "cell_type": "code",
   "execution_count": 27,
   "id": "26510b32",
   "metadata": {},
   "outputs": [
    {
     "data": {
      "text/plain": [
       "2000"
      ]
     },
     "execution_count": 27,
     "metadata": {},
     "output_type": "execute_result"
    }
   ],
   "source": [
    "client3.getbalance()"
   ]
  },
  {
   "cell_type": "code",
   "execution_count": 28,
   "id": "0d120f15",
   "metadata": {},
   "outputs": [],
   "source": [
    "client3.deposit(3000)"
   ]
  },
  {
   "cell_type": "code",
   "execution_count": 29,
   "id": "2e7aba08",
   "metadata": {},
   "outputs": [
    {
     "data": {
      "text/plain": [
       "5000"
      ]
     },
     "execution_count": 29,
     "metadata": {},
     "output_type": "execute_result"
    }
   ],
   "source": [
    "client3.getbalance()"
   ]
  },
  {
   "cell_type": "code",
   "execution_count": 30,
   "id": "4dfd742f",
   "metadata": {},
   "outputs": [],
   "source": [
    "client3.withdraw(2000)"
   ]
  },
  {
   "cell_type": "code",
   "execution_count": 31,
   "id": "b0ea1e2b",
   "metadata": {},
   "outputs": [
    {
     "data": {
      "text/plain": [
       "3000"
      ]
     },
     "execution_count": 31,
     "metadata": {},
     "output_type": "execute_result"
    }
   ],
   "source": [
    "client3.getbalance()"
   ]
  },
  {
   "cell_type": "code",
   "execution_count": 35,
   "id": "e28986c0",
   "metadata": {},
   "outputs": [
    {
     "ename": "AttributeError",
     "evalue": "'BankAccount' object has no attribute '__balance'",
     "output_type": "error",
     "traceback": [
      "\u001b[1;31m---------------------------------------------------------------------------\u001b[0m",
      "\u001b[1;31mAttributeError\u001b[0m                            Traceback (most recent call last)",
      "Cell \u001b[1;32mIn[35], line 1\u001b[0m\n\u001b[1;32m----> 1\u001b[0m client3\u001b[38;5;241m.\u001b[39m__balance\n",
      "\u001b[1;31mAttributeError\u001b[0m: 'BankAccount' object has no attribute '__balance'"
     ]
    }
   ],
   "source": [
    "client3.__balance"
   ]
  },
  {
   "cell_type": "code",
   "execution_count": 36,
   "id": "12bfa148",
   "metadata": {},
   "outputs": [
    {
     "ename": "AttributeError",
     "evalue": "'BankAccount' object has no attribute 'balance'",
     "output_type": "error",
     "traceback": [
      "\u001b[1;31m---------------------------------------------------------------------------\u001b[0m",
      "\u001b[1;31mAttributeError\u001b[0m                            Traceback (most recent call last)",
      "Cell \u001b[1;32mIn[36], line 1\u001b[0m\n\u001b[1;32m----> 1\u001b[0m client3\u001b[38;5;241m.\u001b[39mbalance\n",
      "\u001b[1;31mAttributeError\u001b[0m: 'BankAccount' object has no attribute 'balance'"
     ]
    }
   ],
   "source": [
    "client3.balance"
   ]
  },
  {
   "cell_type": "code",
   "execution_count": 37,
   "id": "02074ba6",
   "metadata": {},
   "outputs": [
    {
     "data": {
      "text/plain": [
       "3000"
      ]
     },
     "execution_count": 37,
     "metadata": {},
     "output_type": "execute_result"
    }
   ],
   "source": [
    "client3._BankAccount__balance"
   ]
  },
  {
   "cell_type": "code",
   "execution_count": null,
   "id": "60320bb9",
   "metadata": {},
   "outputs": [],
   "source": []
  }
 ],
 "metadata": {
  "kernelspec": {
   "display_name": "Python 3 (ipykernel)",
   "language": "python",
   "name": "python3"
  },
  "language_info": {
   "codemirror_mode": {
    "name": "ipython",
    "version": 3
   },
   "file_extension": ".py",
   "mimetype": "text/x-python",
   "name": "python",
   "nbconvert_exporter": "python",
   "pygments_lexer": "ipython3",
   "version": "3.11.4"
  }
 },
 "nbformat": 4,
 "nbformat_minor": 5
}
